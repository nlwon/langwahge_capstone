{
 "cells": [
  {
   "cell_type": "code",
   "execution_count": 10,
   "source": [
    "from mynn.layers.dense import dense\n",
    "from mygrad.nnet.initializers import glorot_normal\n",
    "from mynn.optimizers.sgd import SGD\n",
    "import random\n",
    "import mygrad as mg\n",
    "from langwahge import *\n",
    "%matplotlib inline\n",
    "\n",
    "class Model:\n",
    "    def __init__(self, input_dim, output_dim):\n",
    "        \"\"\" Initializes all of the encoder and decoder layers in our model, setting them\n",
    "        as attributes of the model.\n",
    "        \n",
    "        Parameters\n",
    "        ----------\n",
    "        context_words : int\n",
    "            The number of context words included in our vocabulary\n",
    "            \n",
    "        d : int\n",
    "            The dimensionality of our word embeddings\n",
    "        \"\"\"\n",
    "        # STUDENT CODE HERE\n",
    "        self.encoder = dense(input_dim,output_dim, weight_initializer = glorot_normal, bias = False)\n",
    "    \n",
    "    def __call__(self, x):\n",
    "        ''' Passes data as input to our model, performing a \"forward-pass\".\n",
    "        \n",
    "        This allows us to conveniently initialize a model `m` and then send data through it\n",
    "        to be classified by calling `m(x)`.\n",
    "        \n",
    "        Parameters\n",
    "        ----------\n",
    "        x : Union[numpy.ndarray, mygrad.Tensor], shape=(M, context_words)\n",
    "            A batch of data consisting of M words from the context matrix,\n",
    "                each tracking the number of co-occurences with `context_words` words.\n",
    "                \n",
    "        Returns\n",
    "        -------\n",
    "        mygrad.Tensor, shape=(M, context_words)\n",
    "            The result of passing the data through borth the encoder and decoder.\n",
    "        '''\n",
    "        # STUDENT CODE HERE\n",
    "        \n",
    "        normal_this = self.encoder(x)\n",
    "        normal = mg.sqrt((normal_this**2).sum(keepdims = True))\n",
    "        return normal \n",
    "    @property\n",
    "    def parameters(self):\n",
    "        \"\"\" A convenience function for getting all the parameters of our model.\n",
    "        \n",
    "        This can be accessed as an attribute, via `model.parameters` \n",
    "        \n",
    "        Returns\n",
    "        -------\n",
    "        Tuple[Tensor, ...]\n",
    "            A tuple containing all of the learnable parameters for our model\"\"\"\n",
    "        # STUDENT CODE HERE\n",
    "        return self.encoder.parameters"
   ],
   "outputs": [
    {
     "output_type": "stream",
     "name": "stderr",
     "text": [
      "C:\\Users\\nicho\\anaconda3\\lib\\site-packages\\gensim\\similarities\\__init__.py:15: UserWarning: The gensim.similarities.levenshtein submodule is disabled, because the optional Levenshtein package <https://pypi.org/project/python-Levenshtein/> is unavailable. Install Levenhstein (e.g. `pip install python-Levenshtein`) to suppress this warning.\n",
      "  warnings.warn(msg)\n"
     ]
    },
    {
     "output_type": "error",
     "ename": "IndentationError",
     "evalue": "unindent does not match any outer indentation level (database.py, line 144)",
     "traceback": [
      "Traceback \u001b[1;36m(most recent call last)\u001b[0m:\n",
      "  File \u001b[0;32m\"C:\\Users\\nicho\\anaconda3\\lib\\site-packages\\IPython\\core\\interactiveshell.py\"\u001b[0m, line \u001b[0;32m3418\u001b[0m, in \u001b[0;35mrun_code\u001b[0m\n    exec(code_obj, self.user_global_ns, self.user_ns)\n",
      "  File \u001b[0;32m\"<ipython-input-10-945a28e4de54>\"\u001b[0m, line \u001b[0;32m6\u001b[0m, in \u001b[0;35m<module>\u001b[0m\n    from langwahge import *\n",
      "\u001b[1;36m  File \u001b[1;32m\"C:\\Users\\nicho\\Student_Week3_2021\\langwahge_capstone\\langwahge\\__init__.py\"\u001b[1;36m, line \u001b[1;32m2\u001b[1;36m, in \u001b[1;35m<module>\u001b[1;36m\u001b[0m\n\u001b[1;33m    from .database import *\u001b[0m\n",
      "\u001b[1;36m  File \u001b[1;32m\"C:\\Users\\nicho\\Student_Week3_2021\\langwahge_capstone\\langwahge\\database.py\"\u001b[1;36m, line \u001b[1;32m144\u001b[0m\n\u001b[1;33m    def query_database(){\u001b[0m\n\u001b[1;37m                         ^\u001b[0m\n\u001b[1;31mIndentationError\u001b[0m\u001b[1;31m:\u001b[0m unindent does not match any outer indentation level\n"
     ]
    }
   ],
   "metadata": {}
  },
  {
   "cell_type": "code",
   "execution_count": 6,
   "source": [
    "def loss_accuracy(sim_match, sim_confuse, threshold, triplets = 0):\n",
    "    #loss = max(0, threshold - (sim_match - sim_confuse))\n",
    "    \n",
    "    loss = mygrad.nnet.losses.margin_ranking_loss(sim_match, sim_confuse, threshold)\n",
    "    #list_to_sum = [1 if sim_match>sim_confuse else 0 for i in triplets]\n",
    "    #acc = sum(list_to_sum)/len(triplets)\n",
    "    return loss#, acc"
   ],
   "outputs": [],
   "metadata": {}
  },
  {
   "cell_type": "code",
   "execution_count": 7,
   "source": [
    "model = Model(input_dim = 512, output_dim = 200)\n",
    "optim = SGD(model.parameters, learning_rate = 1e-3, momentum = 0.9)"
   ],
   "outputs": [],
   "metadata": {
    "scrolled": true
   }
  },
  {
   "cell_type": "code",
   "execution_count": 8,
   "source": [
    "from noggin import create_plot\n",
    "plotter, fig, ax = create_plot(metrics=[\"loss\"], max_fraction_spent_plotting=.75)\n",
    "\n",
    "batch_size = 32\n",
    "\n",
    "data = coco_data()\n",
    "coco_data, glove, resnet18_features, imgid_to_capid, capid_to_imgid, capid_to_capstr, counters = data.get_self()\n",
    "#split the data\n",
    "split_at = 0.75\n",
    "keyslist = list(resnet18_features.keys())\n",
    "split = int(len(keyslist)*split_at)\n",
    "training_keys = keyslist[:split]      #if this doesn't work for some reason could just hardcode\n",
    "\n",
    "training_vectors = [resnet18_features[i] for i in training_keys]\n",
    "\n",
    "training_captions_id = [imgid_to_capid[i] for i in training_keys]\n",
    "\n",
    "training_captions = [capid_to_capstr[i] for i in training_captions_id]\n",
    "\n",
    "# test_vectors = resnet18_features[split:82600]\n",
    "# test_captions = \n",
    "\n",
    "testing_keys = keyslist[split:82600]\n",
    "\n",
    "testing_vectors = [resnet18_features[i] for i in testing_keys]\n",
    "\n",
    "testing_captions_id = [imgid_to_capid[i] for i in testing_keys]\n",
    "\n",
    "testing_captions = [capid_to_capstr[i] for i in testing_captions_id]\n",
    "\n",
    "match = 0\n",
    "triplets = 0\n",
    "for epoch in range(10000):\n",
    "    indexes = np.arange((len(training_vectors)))\n",
    "    np.random.shuffle(indexes)\n",
    "    for batch_count in range(0,len(training_vectors)//batch_size):\n",
    "        batch_indexes = indexes[batch_count*batch_size: batch_count*(batch_size+1)]\n",
    "        batch = training_vectors[batch_indexes]  \n",
    "#         print(batch)\n",
    "        w_caption = training_captions[i]  #should correspond to the vectors\n",
    "        prediction = model(batch)\n",
    "        \n",
    "        confuser = model(resnet18_features[random.choice(list(resnet18_features.keys())[:82600])])  \n",
    "        \n",
    "        sim_match = w_caption@prediction\n",
    "        sim_confuse = w_caption@confuser\n",
    "        \n",
    "        if sim_match>sim_confuse:  #accuracy?\n",
    "            match+=1\n",
    "        triplets+=1\n",
    "        \n",
    "        loss = loss_accuracy(sim_match, sim_confuse, 0.25)\n",
    "        \n",
    "        loss.backward()\n",
    "        \n",
    "        optim.step()\n",
    "        \n",
    "        #acc =  np.mean(np.argmax(prediction, axis=1) == batch)\n",
    "        \n",
    "        plotter.set_train_batch({\"loss\" : loss.item()\n",
    "                                 },\n",
    "                                 batch_size=batch_size)\n",
    "accuracy = match/triplets"
   ],
   "outputs": [
    {
     "output_type": "error",
     "ename": "NameError",
     "evalue": "name 'coco_data' is not defined",
     "traceback": [
      "\u001b[1;31m---------------------------------------------------------------------------\u001b[0m",
      "\u001b[1;31mNameError\u001b[0m                                 Traceback (most recent call last)",
      "\u001b[1;32m<ipython-input-8-0053aa35abc7>\u001b[0m in \u001b[0;36m<module>\u001b[1;34m\u001b[0m\n\u001b[0;32m      4\u001b[0m \u001b[0mbatch_size\u001b[0m \u001b[1;33m=\u001b[0m \u001b[1;36m32\u001b[0m\u001b[1;33m\u001b[0m\u001b[1;33m\u001b[0m\u001b[0m\n\u001b[0;32m      5\u001b[0m \u001b[1;33m\u001b[0m\u001b[0m\n\u001b[1;32m----> 6\u001b[1;33m \u001b[0mdata\u001b[0m \u001b[1;33m=\u001b[0m \u001b[0mcoco_data\u001b[0m\u001b[1;33m(\u001b[0m\u001b[1;33m)\u001b[0m\u001b[1;33m\u001b[0m\u001b[1;33m\u001b[0m\u001b[0m\n\u001b[0m\u001b[0;32m      7\u001b[0m \u001b[0mcoco_data\u001b[0m\u001b[1;33m,\u001b[0m \u001b[0mglove\u001b[0m\u001b[1;33m,\u001b[0m \u001b[0mresnet18_features\u001b[0m\u001b[1;33m,\u001b[0m \u001b[0mimgid_to_capid\u001b[0m\u001b[1;33m,\u001b[0m \u001b[0mcapid_to_imgid\u001b[0m\u001b[1;33m,\u001b[0m \u001b[0mcapid_to_capstr\u001b[0m\u001b[1;33m,\u001b[0m \u001b[0mcounters\u001b[0m \u001b[1;33m=\u001b[0m \u001b[0mdata\u001b[0m\u001b[1;33m.\u001b[0m\u001b[0mget_self\u001b[0m\u001b[1;33m(\u001b[0m\u001b[1;33m)\u001b[0m\u001b[1;33m\u001b[0m\u001b[1;33m\u001b[0m\u001b[0m\n\u001b[0;32m      8\u001b[0m \u001b[1;31m#split the data\u001b[0m\u001b[1;33m\u001b[0m\u001b[1;33m\u001b[0m\u001b[1;33m\u001b[0m\u001b[0m\n",
      "\u001b[1;31mNameError\u001b[0m: name 'coco_data' is not defined"
     ]
    },
    {
     "output_type": "display_data",
     "data": {
      "text/plain": [
       "<Figure size 432x288 with 1 Axes>"
      ],
      "image/png": "[encoded data removed]"
     },
     "metadata": {
      "needs_background": "light"
     }
    }
   ],
   "metadata": {}
  },
  {
   "cell_type": "code",
   "execution_count": null,
   "source": [
    "#testing\n",
    "length_total = defaultdict(int)\n",
    "length_correct = defaultdict(int)\n",
    "\n",
    "with mg.no_autodiff:\n",
    "    for i in range(10000):\n",
    "        if i % 5000 == 0:\n",
    "            print(f\"i = {i}\")\n",
    "        #x, target, sequence = generate_batch(1, 20, 1)\n",
    "        x = test_vectors[i]\n",
    "        output = model(x)\n",
    "\n",
    "        length_total[sequence.size] += 1\n",
    "        if np.all(np.argmax(output, axis=-1) == target):\n",
    "            length_correct[sequence.size] += 1\n",
    "\n",
    "fig, ax = plt.subplots()\n",
    "x, y = [], []\n",
    "for i in range(1, 20):\n",
    "    x.append(i)\n",
    "    y.append(length_correct[i] / length_total[i])\n",
    "ax.plot(x, y);"
   ],
   "outputs": [],
   "metadata": {}
  },
  {
   "cell_type": "code",
   "execution_count": null,
   "source": [],
   "outputs": [],
   "metadata": {}
  }
 ],
 "metadata": {
  "kernelspec": {
   "display_name": "Python 3",
   "language": "python",
   "name": "python3"
  },
  "language_info": {
   "codemirror_mode": {
    "name": "ipython",
    "version": 3
   },
   "file_extension": ".py",
   "mimetype": "text/x-python",
   "name": "python",
   "nbconvert_exporter": "python",
   "pygments_lexer": "ipython3",
   "version": "3.8.5"
  }
 },
 "nbformat": 4,
 "nbformat_minor": 5
}